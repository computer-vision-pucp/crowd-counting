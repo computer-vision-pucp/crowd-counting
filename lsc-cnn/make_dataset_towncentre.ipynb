{
 "cells": [
  {
   "cell_type": "code",
   "execution_count": 1,
   "metadata": {},
   "outputs": [],
   "source": [
    "from scipy.io import loadmat\n",
    "import matplotlib.pyplot as plt\n",
    "import cv2\n",
    "import numpy as np\n",
    "import pandas as pd\n",
    "import h5py\n",
    "from scipy.ndimage.filters import gaussian_filter\n",
    "from matplotlib import cm as CM\n",
    "from tqdm import tqdm\n",
    "import json\n",
    "import os\n",
    "import glob\n",
    "import scipy"
   ]
  },
  {
   "cell_type": "code",
   "execution_count": 2,
   "metadata": {},
   "outputs": [],
   "source": [
    "PATH_DATA = \"../birdeye/data/TownCentre-groundtruth.top\"\n",
    "data = pd.read_csv(PATH_DATA)\n",
    "data.columns = ['numPersona','numFrame','headValid','bodyValid','headLeft','headTop','headRight','headBottom','bodyLeft','bodyTop','bodyRight','bodyBottom']"
   ]
  },
  {
   "cell_type": "code",
   "execution_count": 3,
   "metadata": {},
   "outputs": [
    {
     "name": "stderr",
     "output_type": "stream",
     "text": [
      "100%|██████████| 1000/1000 [00:12<00:00, 81.91it/s]\n"
     ]
    }
   ],
   "source": [
    "# obtener imagenes para el entrenamiento\n",
    "PATH_VIDEO = \"../birdeye/data/TownCentreXVID.avi\"\n",
    "capture = cv2.VideoCapture(PATH_VIDEO)\n",
    "START_FRAME = 2500\n",
    "STOP_FRAME = 3500\n",
    "\n",
    "prefix = None\n",
    "i=0\n",
    "pbar = tqdm(total = STOP_FRAME-START_FRAME)\n",
    "while(capture.isOpened() and i < STOP_FRAME):\n",
    "    ret, frame = capture.read()\n",
    "    if ret == False:\n",
    "        break\n",
    "    \n",
    "    if(i>=START_FRAME):\n",
    "        if i%2 == 0:\n",
    "            prefix = 'test'\n",
    "        else:\n",
    "            prefix = 'train'\n",
    "\n",
    "        #img_path = \"../dataset/towncenter/\"+prefix+\"_data/images/IMG_\"+str(i)+\".jpg\"\n",
    "        #cv2.imwrite(img_path, frame)\n",
    "        \n",
    "        frame_data = data[data['numFrame']==i]\n",
    "        #img = plt.imread(img_path)\n",
    "        #k = np.zeros((img.shape[0],img.shape[1]))\n",
    "        frame_points = [(row['headLeft'] + (row['headRight'] - row['headLeft'])/2, row['headTop'] + (row['headBottom'] - row['headTop'])/2 ) for index, row in frame_data.iterrows()]\n",
    "        gt = np.array(frame_points)\n",
    "        \n",
    "        scipy.io.savemat(\"../dataset/towncenter/\"+prefix+\"_data/ground-truth/GT_IMG_\"+str(i)+\".mat\", dict(image_info=gt))\n",
    "        \n",
    "        #for j in range(0,len(gt)):\n",
    "        #    if int(gt[j][1])<img.shape[0] and int(gt[j][0])<img.shape[1]:\n",
    "        #        k[int(gt[j][1]),int(gt[j][0])]=1\n",
    "        #k = gaussian_filter(k,15)     \n",
    "        #with h5py.File(\"data/towncentre/\"+prefix+\"_data/ground-truth/IMG_\"+str(i)+\".h5\", 'w') as hf:\n",
    "        #    hf['density'] = k\n",
    "        \n",
    "        pbar.update(1)\n",
    "    i+=1\n",
    "\n",
    "pbar.close()\n",
    "capture.release()"
   ]
  },
  {
   "cell_type": "code",
   "execution_count": 21,
   "metadata": {},
   "outputs": [
    {
     "data": {
      "text/plain": [
       "<matplotlib.image.AxesImage at 0x7f76043c1ed0>"
      ]
     },
     "execution_count": 21,
     "metadata": {},
     "output_type": "execute_result"
    },
    {
     "data": {
      "image/png": "[encoded data removed]",
      "text/plain": [
       "<Figure size 432x288 with 1 Axes>"
      ]
     },
     "metadata": {
      "needs_background": "light"
     },
     "output_type": "display_data"
    }
   ],
   "source": [
    "# mostramos un ejemplo generado\n",
    "gt_file = h5py.File(\"data/towncentre/train_data/ground-truth/IMG_2901.h5\",'r')\n",
    "groundtruth = np.asarray(gt_file['density'])\n",
    "plt.imshow(groundtruth,cmap=CM.jet)"
   ]
  },
  {
   "cell_type": "code",
   "execution_count": 27,
   "metadata": {},
   "outputs": [],
   "source": [
    "# generamos los archivos json de lectura para el entrenamiento\n",
    "img_paths_train = []\n",
    "img_paths_val = []\n",
    "#root = '/home/aalejo/proyectos/CSRNet-pytorch'\n",
    "root = ''\n",
    "path = os.path.join(root,\"data/towncentre/train_data\",'images')\n",
    "c = 0\n",
    "for img_path in glob.glob(os.path.join(path, '*.jpg')):\n",
    "    if c>=350:\n",
    "        img_paths_val.append(img_path)\n",
    "    else:\n",
    "        img_paths_train.append(img_path)\n",
    "    c+=1\n",
    "\n",
    "with open('towncentre_train.json', 'w') as f:\n",
    "    json.dump(img_paths_train, f)    \n",
    "    \n",
    "with open('towncentre_val.json', 'w') as f:\n",
    "    json.dump(img_paths_val, f)"
   ]
  },
  {
   "cell_type": "code",
   "execution_count": 28,
   "metadata": {},
   "outputs": [],
   "source": [
    "# test\n",
    "img_paths = []\n",
    "#root = '/home/aalejo/proyectos/CSRNet-pytorch'\n",
    "root = ''\n",
    "path = os.path.join(root,\"data/towncentre/test_data\",'images')\n",
    "\n",
    "for img_path in glob.glob(os.path.join(path, '*.jpg')):\n",
    "    img_paths.append(img_path)\n",
    "\n",
    "with open('towncentre_test.json', 'w') as f:\n",
    "    json.dump(img_paths, f)"
   ]
  },
  {
   "cell_type": "code",
   "execution_count": null,
   "metadata": {},
   "outputs": [],
   "source": []
  }
 ],
 "metadata": {
  "kernelspec": {
   "display_name": "Python 3",
   "language": "python",
   "name": "python3"
  },
  "language_info": {
   "codemirror_mode": {
    "name": "ipython",
    "version": 3
   },
   "file_extension": ".py",
   "mimetype": "text/x-python",
   "name": "python",
   "nbconvert_exporter": "python",
   "pygments_lexer": "ipython3",
   "version": "3.7.5"
  }
 },
 "nbformat": 4,
 "nbformat_minor": 4
}
